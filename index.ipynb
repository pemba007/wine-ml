{
 "cells": [
  {
   "cell_type": "code",
   "execution_count": 138,
   "metadata": {},
   "outputs": [],
   "source": [
    "# Importing the libraries for dataset handling\n",
    "\n",
    "import pandas as pd\n",
    "import numpy as np\n",
    "\n",
    "# Reading the data set from csv file\n",
    "df = pd.read_csv('./wine.csv', header = None)"
   ]
  },
  {
   "cell_type": "code",
   "execution_count": 139,
   "metadata": {},
   "outputs": [
    {
     "name": "stdout",
     "output_type": "stream",
     "text": [
      "(178, 14)\n"
     ]
    }
   ],
   "source": [
    "# Checking the number of features and number of data records\n",
    "print(df.shape)"
   ]
  },
  {
   "cell_type": "code",
   "execution_count": 140,
   "metadata": {},
   "outputs": [],
   "source": [
    "# Segregating target variable\n",
    "y = df[0]\n",
    "df.drop(df.columns[0], axis=1, inplace=True)"
   ]
  },
  {
   "cell_type": "code",
   "execution_count": 141,
   "metadata": {},
   "outputs": [],
   "source": [
    "# Importing the normalizer and the column transformer for the data preprocessing\n",
    "from sklearn.preprocessing import Normalizer\n",
    "from sklearn.compose import ColumnTransformer\n",
    "\n",
    "# Column Transformer is coded to normalize the columns that are of high values i.e out of the range of 0-10\n",
    "ct = ColumnTransformer([(\"normalization\", Normalizer(norm='l1'), [0,3,4,12])], remainder='passthrough')\n",
    "\n",
    "# The columns are fitted and transformed for normalization\n",
    "df = ct.fit_transform(df)"
   ]
  },
  {
   "cell_type": "code",
   "execution_count": 142,
   "metadata": {},
   "outputs": [],
   "source": [
    "# Splitting the model in 80-20 scheme for training\n",
    "from sklearn.model_selection import train_test_split\n",
    "\n",
    "# The overall dataset is splitted into two sets of training and testing randomly\n",
    "X_train, X_test, y_train, y_test = train_test_split(df, y, test_size=0.20, random_state=5, stratify=y)"
   ]
  },
  {
   "cell_type": "code",
   "execution_count": 143,
   "metadata": {},
   "outputs": [
    {
     "name": "stdout",
     "output_type": "stream",
     "text": [
      "Fitting 10 folds for each of 70 candidates, totalling 700 fits\n",
      "{'n_neighbors': 3}\n"
     ]
    }
   ],
   "source": [
    "# Importing the classifier function and optimization function\n",
    "\n",
    "from sklearn.neighbors import KNeighborsClassifier\n",
    "from sklearn.model_selection import GridSearchCV\n",
    "\n",
    "# Defining the KNN classifier\n",
    "knn = KNeighborsClassifier()\n",
    "\n",
    "# Defining the range of possible values of k to try\n",
    "k_range = list(range(1, X_train.shape[0]//2))\n",
    "\n",
    "# Defining all the parameters to search through\n",
    "param_grid = dict(n_neighbors=k_range)\n",
    "\n",
    "# Defining the grid search \n",
    "# knn = classifier\n",
    "# param_grid = parameters to search through\n",
    "# cv = Cross validation (k-fold)\n",
    "# scoring = Metrics for evaluation. \"accuracy\" means the classification accuracy\n",
    "# return_train_score = No need to return train score\n",
    "# Verbose = Amount of information during search\n",
    "# n_jobs = How much processing to use for search. -1 means the maximum amount of available resources\n",
    "grid = GridSearchCV(knn, param_grid, cv=10, scoring='accuracy', return_train_score=False,verbose=1, n_jobs=-1)\n",
    "\n",
    "grid_search = grid.fit(X_train, y_train)\n",
    "\n",
    "# Printing what the best parameter has been\n",
    "print(grid_search.best_params_)"
   ]
  },
  {
   "cell_type": "code",
   "execution_count": 144,
   "metadata": {},
   "outputs": [],
   "source": [
    "# Definining a KNN classifier with the best params\n",
    "neight = KNeighborsClassifier(3)\n",
    "\n",
    "neight.fit(X_train,y_train)\n",
    "\n",
    "# Predicitng with new classifier\n",
    "y_pred = neight.predict(X_test)"
   ]
  },
  {
   "cell_type": "code",
   "execution_count": 145,
   "metadata": {},
   "outputs": [
    {
     "data": {
      "text/plain": [
       "2    14\n",
       "1    12\n",
       "3    10\n",
       "Name: 0, dtype: int64"
      ]
     },
     "execution_count": 145,
     "metadata": {},
     "output_type": "execute_result"
    }
   ],
   "source": [
    "# Checking the number of data records in each class\n",
    "\n",
    "y_test.value_counts()"
   ]
  },
  {
   "cell_type": "code",
   "execution_count": 146,
   "metadata": {},
   "outputs": [
    {
     "name": "stdout",
     "output_type": "stream",
     "text": [
      "Number of mislabeled points out of a total 36 points : 1\n"
     ]
    },
    {
     "data": {
      "image/png": "[encoded data removed]",
      "text/plain": [
       "<Figure size 640x480 with 2 Axes>"
      ]
     },
     "metadata": {},
     "output_type": "display_data"
    }
   ],
   "source": [
    "# Importing libraries for data visualization\n",
    "from sklearn.metrics import classification_report, plot_confusion_matrix, multilabel_confusion_matrix, accuracy_score\n",
    "import matplotlib.pyplot as plt\n",
    "\n",
    "# classification_report, plot_confusion_matrix and multilabel_confusion_matrix gives us the confusion matrix\n",
    "\n",
    "print(\"Number of mislabeled points out of a total %d points : %d\" % (X_test.shape[0], (y_test != y_pred).sum()))\n",
    "\n",
    "# Create a multi label confusion matrix MCM\n",
    "\n",
    "# In multilabel confusion matrix MCM , the count of true negatives is MCM(0,0) , false negatives is MCM(1,0), true positives is MCM(1,1) and false positives is MCM(1,0).\n",
    "cm = multilabel_confusion_matrix(y_test, y_pred, labels=[1,2,3])\n",
    "disp = plot_confusion_matrix(neight, X_test, y_test,cmap=plt.cm.Blues)\n",
    "plt.show()"
   ]
  },
  {
   "cell_type": "code",
   "execution_count": 147,
   "metadata": {},
   "outputs": [
    {
     "name": "stdout",
     "output_type": "stream",
     "text": [
      "[[[23  1]\n",
      "  [ 0 12]]\n",
      "\n",
      " [[22  0]\n",
      "  [ 1 13]]\n",
      "\n",
      " [[26  0]\n",
      "  [ 0 10]]]\n"
     ]
    }
   ],
   "source": [
    "# Displaying the calculated multi label confusion matrix\n",
    "print(cm)"
   ]
  },
  {
   "cell_type": "code",
   "execution_count": 148,
   "metadata": {},
   "outputs": [
    {
     "name": "stdout",
     "output_type": "stream",
     "text": [
      "   class  sensitivity(Recall)  specificity\n",
      "0      0             1.000000     0.958333\n",
      "1      1             0.928571     1.000000\n",
      "2      2             1.000000     1.000000\n"
     ]
    }
   ],
   "source": [
    "# Calulating the specificity and the sensitivity of each of the classes\n",
    "res = []\n",
    "for l in [0,1,2]:\n",
    "    x = cm[l]\n",
    "    tn, fp = x[0]\n",
    "    fn, tp = x[1]\n",
    "    sensitivity = tp / (tp + fn)\n",
    "    specificity = tn / (tn + fp)\n",
    "    res.append([l,sensitivity, specificity])\n",
    "    \n",
    "print(pd.DataFrame(res,columns = ['class','sensitivity(Recall)','specificity']))"
   ]
  },
  {
   "cell_type": "code",
   "execution_count": 149,
   "metadata": {},
   "outputs": [
    {
     "name": "stdout",
     "output_type": "stream",
     "text": [
      "The Total Accuracy is  0.9722222222222222\n"
     ]
    }
   ],
   "source": [
    "# Calculating the overall accuracy of the classifier\n",
    "print(\"The Total Accuracy is \",  accuracy_score(y_test, y_pred))"
   ]
  }
 ],
 "metadata": {
  "interpreter": {
   "hash": "cf0502d1a5b9759e49df08dfa766bd2d6a64919df3bd5a34ee3df9e32f4e0ec2"
  },
  "kernelspec": {
   "display_name": "Python 3.7.11 ('CS540')",
   "language": "python",
   "name": "python3"
  },
  "language_info": {
   "codemirror_mode": {
    "name": "ipython",
    "version": 3
   },
   "file_extension": ".py",
   "mimetype": "text/x-python",
   "name": "python",
   "nbconvert_exporter": "python",
   "pygments_lexer": "ipython3",
   "version": "3.7.11"
  },
  "orig_nbformat": 4
 },
 "nbformat": 4,
 "nbformat_minor": 2
}
